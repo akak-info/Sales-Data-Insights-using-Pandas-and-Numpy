{
 "cells": [
  {
   "cell_type": "code",
   "execution_count": 1,
   "id": "60c8258c-c00f-4950-8cce-b46360db86b4",
   "metadata": {},
   "outputs": [],
   "source": [
    "import pandas as pd\n",
    "import numpy as np"
   ]
  },
  {
   "cell_type": "code",
   "execution_count": 4,
   "id": "da597370-a69c-4e39-b0bb-b6b59f3aa7ca",
   "metadata": {},
   "outputs": [],
   "source": [
    "df = pd.read_csv(\"datset1.csv\")"
   ]
  },
  {
   "cell_type": "code",
   "execution_count": 5,
   "id": "2aad301e-3e15-4045-8228-9c3a7fda5943",
   "metadata": {},
   "outputs": [
    {
     "data": {
      "text/html": [
       "<div>\n",
       "<style scoped>\n",
       "    .dataframe tbody tr th:only-of-type {\n",
       "        vertical-align: middle;\n",
       "    }\n",
       "\n",
       "    .dataframe tbody tr th {\n",
       "        vertical-align: top;\n",
       "    }\n",
       "\n",
       "    .dataframe thead th {\n",
       "        text-align: right;\n",
       "    }\n",
       "</style>\n",
       "<table border=\"1\" class=\"dataframe\">\n",
       "  <thead>\n",
       "    <tr style=\"text-align: right;\">\n",
       "      <th></th>\n",
       "      <th>OrderID</th>\n",
       "      <th>Date</th>\n",
       "      <th>Region</th>\n",
       "      <th>CustomerName</th>\n",
       "      <th>Product</th>\n",
       "      <th>Quantity</th>\n",
       "      <th>UnitPrice</th>\n",
       "      <th>TotalSales</th>\n",
       "      <th>PaymentMethod</th>\n",
       "    </tr>\n",
       "  </thead>\n",
       "  <tbody>\n",
       "    <tr>\n",
       "      <th>0</th>\n",
       "      <td>1001</td>\n",
       "      <td>2023-01-15</td>\n",
       "      <td>North</td>\n",
       "      <td>Alice Johnson</td>\n",
       "      <td>Laptop</td>\n",
       "      <td>2.0</td>\n",
       "      <td>700.0</td>\n",
       "      <td>1400.0</td>\n",
       "      <td>Credit Card</td>\n",
       "    </tr>\n",
       "    <tr>\n",
       "      <th>1</th>\n",
       "      <td>1002</td>\n",
       "      <td>2023-01-16</td>\n",
       "      <td>South</td>\n",
       "      <td>Rahul Mehta</td>\n",
       "      <td>Mobile Phone</td>\n",
       "      <td>5.0</td>\n",
       "      <td>300.0</td>\n",
       "      <td>1500.0</td>\n",
       "      <td>UPI</td>\n",
       "    </tr>\n",
       "    <tr>\n",
       "      <th>2</th>\n",
       "      <td>1003</td>\n",
       "      <td>2023-01-17</td>\n",
       "      <td>East</td>\n",
       "      <td>Fatima Noor</td>\n",
       "      <td>Headphones</td>\n",
       "      <td>10.0</td>\n",
       "      <td>50.0</td>\n",
       "      <td>500.0</td>\n",
       "      <td>Debit Card</td>\n",
       "    </tr>\n",
       "    <tr>\n",
       "      <th>3</th>\n",
       "      <td>1004</td>\n",
       "      <td>2023-01-18</td>\n",
       "      <td>West</td>\n",
       "      <td>NaN</td>\n",
       "      <td>Laptop</td>\n",
       "      <td>1.0</td>\n",
       "      <td>720.0</td>\n",
       "      <td>720.0</td>\n",
       "      <td>Credit Card</td>\n",
       "    </tr>\n",
       "    <tr>\n",
       "      <th>4</th>\n",
       "      <td>1005</td>\n",
       "      <td>2023-01-19</td>\n",
       "      <td>North</td>\n",
       "      <td>Zoe Carter</td>\n",
       "      <td>Mobile Phone</td>\n",
       "      <td>3.0</td>\n",
       "      <td>NaN</td>\n",
       "      <td>NaN</td>\n",
       "      <td>UPI</td>\n",
       "    </tr>\n",
       "  </tbody>\n",
       "</table>\n",
       "</div>"
      ],
      "text/plain": [
       "   OrderID        Date Region   CustomerName       Product  Quantity  \\\n",
       "0     1001  2023-01-15  North  Alice Johnson        Laptop       2.0   \n",
       "1     1002  2023-01-16  South    Rahul Mehta  Mobile Phone       5.0   \n",
       "2     1003  2023-01-17   East    Fatima Noor    Headphones      10.0   \n",
       "3     1004  2023-01-18   West            NaN        Laptop       1.0   \n",
       "4     1005  2023-01-19  North     Zoe Carter  Mobile Phone       3.0   \n",
       "\n",
       "   UnitPrice  TotalSales PaymentMethod  \n",
       "0      700.0      1400.0   Credit Card  \n",
       "1      300.0      1500.0           UPI  \n",
       "2       50.0       500.0    Debit Card  \n",
       "3      720.0       720.0   Credit Card  \n",
       "4        NaN         NaN           UPI  "
      ]
     },
     "execution_count": 5,
     "metadata": {},
     "output_type": "execute_result"
    }
   ],
   "source": [
    "df.head()"
   ]
  },
  {
   "cell_type": "code",
   "execution_count": 6,
   "id": "c10ece2a-bf7e-40ad-a7df-c60a26fe56e0",
   "metadata": {},
   "outputs": [
    {
     "data": {
      "text/html": [
       "<div>\n",
       "<style scoped>\n",
       "    .dataframe tbody tr th:only-of-type {\n",
       "        vertical-align: middle;\n",
       "    }\n",
       "\n",
       "    .dataframe tbody tr th {\n",
       "        vertical-align: top;\n",
       "    }\n",
       "\n",
       "    .dataframe thead th {\n",
       "        text-align: right;\n",
       "    }\n",
       "</style>\n",
       "<table border=\"1\" class=\"dataframe\">\n",
       "  <thead>\n",
       "    <tr style=\"text-align: right;\">\n",
       "      <th></th>\n",
       "      <th>OrderID</th>\n",
       "      <th>Date</th>\n",
       "      <th>Region</th>\n",
       "      <th>CustomerName</th>\n",
       "      <th>Product</th>\n",
       "      <th>Quantity</th>\n",
       "      <th>UnitPrice</th>\n",
       "      <th>TotalSales</th>\n",
       "      <th>PaymentMethod</th>\n",
       "    </tr>\n",
       "  </thead>\n",
       "  <tbody>\n",
       "    <tr>\n",
       "      <th>15</th>\n",
       "      <td>1016</td>\n",
       "      <td>2023-01-30</td>\n",
       "      <td>West</td>\n",
       "      <td>Alice Johnson</td>\n",
       "      <td>Monitor</td>\n",
       "      <td>3.0</td>\n",
       "      <td>195.0</td>\n",
       "      <td>585.0</td>\n",
       "      <td>Credit Card</td>\n",
       "    </tr>\n",
       "    <tr>\n",
       "      <th>16</th>\n",
       "      <td>1017</td>\n",
       "      <td>2023-01-31</td>\n",
       "      <td>North</td>\n",
       "      <td>Daniel Smith</td>\n",
       "      <td>Tablet</td>\n",
       "      <td>2.0</td>\n",
       "      <td>450.0</td>\n",
       "      <td>900.0</td>\n",
       "      <td>UPI</td>\n",
       "    </tr>\n",
       "    <tr>\n",
       "      <th>17</th>\n",
       "      <td>1018</td>\n",
       "      <td>2023-02-01</td>\n",
       "      <td>South</td>\n",
       "      <td>Ankit Tiwari</td>\n",
       "      <td>Smart Watch</td>\n",
       "      <td>1.0</td>\n",
       "      <td>200.0</td>\n",
       "      <td>200.0</td>\n",
       "      <td>Wallet</td>\n",
       "    </tr>\n",
       "    <tr>\n",
       "      <th>18</th>\n",
       "      <td>1019</td>\n",
       "      <td>2023-02-02</td>\n",
       "      <td>East</td>\n",
       "      <td>Sarah Lee</td>\n",
       "      <td>Mobile Phone</td>\n",
       "      <td>2.0</td>\n",
       "      <td>310.0</td>\n",
       "      <td>620.0</td>\n",
       "      <td>UPI</td>\n",
       "    </tr>\n",
       "    <tr>\n",
       "      <th>19</th>\n",
       "      <td>1020</td>\n",
       "      <td>2023-02-03</td>\n",
       "      <td>West</td>\n",
       "      <td>Maria Gonzalez</td>\n",
       "      <td>Laptop</td>\n",
       "      <td>1.0</td>\n",
       "      <td>NaN</td>\n",
       "      <td>700.0</td>\n",
       "      <td>Credit Card</td>\n",
       "    </tr>\n",
       "  </tbody>\n",
       "</table>\n",
       "</div>"
      ],
      "text/plain": [
       "    OrderID        Date Region    CustomerName       Product  Quantity  \\\n",
       "15     1016  2023-01-30   West   Alice Johnson       Monitor       3.0   \n",
       "16     1017  2023-01-31  North    Daniel Smith        Tablet       2.0   \n",
       "17     1018  2023-02-01  South    Ankit Tiwari   Smart Watch       1.0   \n",
       "18     1019  2023-02-02   East       Sarah Lee  Mobile Phone       2.0   \n",
       "19     1020  2023-02-03   West  Maria Gonzalez        Laptop       1.0   \n",
       "\n",
       "    UnitPrice  TotalSales PaymentMethod  \n",
       "15      195.0       585.0   Credit Card  \n",
       "16      450.0       900.0           UPI  \n",
       "17      200.0       200.0        Wallet  \n",
       "18      310.0       620.0           UPI  \n",
       "19        NaN       700.0   Credit Card  "
      ]
     },
     "execution_count": 6,
     "metadata": {},
     "output_type": "execute_result"
    }
   ],
   "source": [
    "df.tail()"
   ]
  },
  {
   "cell_type": "code",
   "execution_count": 7,
   "id": "816af10c-471e-4553-9c4b-335d4505daf4",
   "metadata": {},
   "outputs": [
    {
     "name": "stdout",
     "output_type": "stream",
     "text": [
      "<class 'pandas.core.frame.DataFrame'>\n",
      "RangeIndex: 20 entries, 0 to 19\n",
      "Data columns (total 9 columns):\n",
      " #   Column         Non-Null Count  Dtype  \n",
      "---  ------         --------------  -----  \n",
      " 0   OrderID        20 non-null     int64  \n",
      " 1   Date           20 non-null     object \n",
      " 2   Region         20 non-null     object \n",
      " 3   CustomerName   18 non-null     object \n",
      " 4   Product        20 non-null     object \n",
      " 5   Quantity       19 non-null     float64\n",
      " 6   UnitPrice      18 non-null     float64\n",
      " 7   TotalSales     18 non-null     float64\n",
      " 8   PaymentMethod  20 non-null     object \n",
      "dtypes: float64(3), int64(1), object(5)\n",
      "memory usage: 1.5+ KB\n"
     ]
    }
   ],
   "source": [
    "df.info()"
   ]
  },
  {
   "cell_type": "code",
   "execution_count": 65,
   "id": "edcda39c-3958-422b-b816-cd2115981032",
   "metadata": {},
   "outputs": [
    {
     "data": {
      "text/html": [
       "<div>\n",
       "<style scoped>\n",
       "    .dataframe tbody tr th:only-of-type {\n",
       "        vertical-align: middle;\n",
       "    }\n",
       "\n",
       "    .dataframe tbody tr th {\n",
       "        vertical-align: top;\n",
       "    }\n",
       "\n",
       "    .dataframe thead th {\n",
       "        text-align: right;\n",
       "    }\n",
       "</style>\n",
       "<table border=\"1\" class=\"dataframe\">\n",
       "  <thead>\n",
       "    <tr style=\"text-align: right;\">\n",
       "      <th></th>\n",
       "      <th>OrderID</th>\n",
       "      <th>Quantity</th>\n",
       "      <th>UnitPrice</th>\n",
       "      <th>TotalSales</th>\n",
       "    </tr>\n",
       "  </thead>\n",
       "  <tbody>\n",
       "    <tr>\n",
       "      <th>count</th>\n",
       "      <td>15.000000</td>\n",
       "      <td>15.000000</td>\n",
       "      <td>15.000000</td>\n",
       "      <td>15.000000</td>\n",
       "    </tr>\n",
       "    <tr>\n",
       "      <th>mean</th>\n",
       "      <td>1010.733333</td>\n",
       "      <td>3.200000</td>\n",
       "      <td>310.000000</td>\n",
       "      <td>713.333333</td>\n",
       "    </tr>\n",
       "    <tr>\n",
       "      <th>std</th>\n",
       "      <td>5.933761</td>\n",
       "      <td>2.396426</td>\n",
       "      <td>230.666735</td>\n",
       "      <td>451.559467</td>\n",
       "    </tr>\n",
       "    <tr>\n",
       "      <th>min</th>\n",
       "      <td>1001.000000</td>\n",
       "      <td>1.000000</td>\n",
       "      <td>50.000000</td>\n",
       "      <td>200.000000</td>\n",
       "    </tr>\n",
       "    <tr>\n",
       "      <th>25%</th>\n",
       "      <td>1006.500000</td>\n",
       "      <td>2.000000</td>\n",
       "      <td>147.500000</td>\n",
       "      <td>365.000000</td>\n",
       "    </tr>\n",
       "    <tr>\n",
       "      <th>50%</th>\n",
       "      <td>1011.000000</td>\n",
       "      <td>2.000000</td>\n",
       "      <td>290.000000</td>\n",
       "      <td>585.000000</td>\n",
       "    </tr>\n",
       "    <tr>\n",
       "      <th>75%</th>\n",
       "      <td>1015.500000</td>\n",
       "      <td>4.000000</td>\n",
       "      <td>380.000000</td>\n",
       "      <td>1040.000000</td>\n",
       "    </tr>\n",
       "    <tr>\n",
       "      <th>max</th>\n",
       "      <td>1019.000000</td>\n",
       "      <td>10.000000</td>\n",
       "      <td>710.000000</td>\n",
       "      <td>1500.000000</td>\n",
       "    </tr>\n",
       "  </tbody>\n",
       "</table>\n",
       "</div>"
      ],
      "text/plain": [
       "           OrderID   Quantity   UnitPrice   TotalSales\n",
       "count    15.000000  15.000000   15.000000    15.000000\n",
       "mean   1010.733333   3.200000  310.000000   713.333333\n",
       "std       5.933761   2.396426  230.666735   451.559467\n",
       "min    1001.000000   1.000000   50.000000   200.000000\n",
       "25%    1006.500000   2.000000  147.500000   365.000000\n",
       "50%    1011.000000   2.000000  290.000000   585.000000\n",
       "75%    1015.500000   4.000000  380.000000  1040.000000\n",
       "max    1019.000000  10.000000  710.000000  1500.000000"
      ]
     },
     "execution_count": 65,
     "metadata": {},
     "output_type": "execute_result"
    }
   ],
   "source": [
    "df.describe()"
   ]
  },
  {
   "cell_type": "code",
   "execution_count": 9,
   "id": "41c6797f-7524-48d6-9986-72848b442f9e",
   "metadata": {},
   "outputs": [
    {
     "data": {
      "text/plain": [
       "OrderID          0\n",
       "Date             0\n",
       "Region           0\n",
       "CustomerName     2\n",
       "Product          0\n",
       "Quantity         1\n",
       "UnitPrice        2\n",
       "TotalSales       2\n",
       "PaymentMethod    0\n",
       "dtype: int64"
      ]
     },
     "execution_count": 9,
     "metadata": {},
     "output_type": "execute_result"
    }
   ],
   "source": [
    "df.isnull().sum()"
   ]
  },
  {
   "cell_type": "code",
   "execution_count": 20,
   "id": "f182517d-6608-4d6e-939a-d92a00651bb9",
   "metadata": {},
   "outputs": [],
   "source": [
    "df.dropna(inplace=True)"
   ]
  },
  {
   "cell_type": "code",
   "execution_count": 22,
   "id": "d7f244ee-fd1a-4b88-b5ba-a4b7922956f6",
   "metadata": {},
   "outputs": [
    {
     "data": {
      "text/plain": [
       "OrderID          0\n",
       "Date             0\n",
       "Region           0\n",
       "CustomerName     0\n",
       "Product          0\n",
       "Quantity         0\n",
       "UnitPrice        0\n",
       "TotalSales       0\n",
       "PaymentMethod    0\n",
       "dtype: int64"
      ]
     },
     "execution_count": 22,
     "metadata": {},
     "output_type": "execute_result"
    }
   ],
   "source": [
    "df.isnull().sum()"
   ]
  },
  {
   "cell_type": "markdown",
   "id": "aa822d19-d1ee-49ad-85e9-04e03bf10f1e",
   "metadata": {},
   "source": [
    "# Sum of sales by region"
   ]
  },
  {
   "cell_type": "code",
   "execution_count": 34,
   "id": "d86c656c-f10d-4c94-a951-f9bc0e3affd1",
   "metadata": {},
   "outputs": [],
   "source": [
    "sum_sales = df.groupby('Region')['TotalSales'].sum()"
   ]
  },
  {
   "cell_type": "code",
   "execution_count": 37,
   "id": "26bbcced-c175-4ae8-8b37-f8e6e168b36b",
   "metadata": {},
   "outputs": [
    {
     "name": "stdout",
     "output_type": "stream",
     "text": [
      "Region\n",
      "East     2520.0\n",
      "North    3765.0\n",
      "South    3830.0\n",
      "West      585.0\n",
      "Name: TotalSales, dtype: float64\n"
     ]
    }
   ],
   "source": [
    "print(sum_sales)"
   ]
  },
  {
   "cell_type": "markdown",
   "id": "fadfc0fb-9eb8-4b25-a32d-340e7aaf944b",
   "metadata": {},
   "source": [
    "# Average sales per product"
   ]
  },
  {
   "cell_type": "code",
   "execution_count": 38,
   "id": "ea55164a-9fcd-4f57-a958-e79999377316",
   "metadata": {},
   "outputs": [],
   "source": [
    "avg_sales = df.groupby('Product')['TotalSales'].mean()"
   ]
  },
  {
   "cell_type": "code",
   "execution_count": 39,
   "id": "58f573b0-596b-4377-b129-e551d29e1b5b",
   "metadata": {},
   "outputs": [
    {
     "data": {
      "text/plain": [
       "Product\n",
       "Headphones       415.0\n",
       "Keyboard         342.5\n",
       "Laptop          1170.0\n",
       "Mobile Phone     897.5\n",
       "Monitor          492.5\n",
       "Smart Watch      200.0\n",
       "Tablet           900.0\n",
       "Name: TotalSales, dtype: float64"
      ]
     },
     "execution_count": 39,
     "metadata": {},
     "output_type": "execute_result"
    }
   ],
   "source": [
    "avg_sales"
   ]
  },
  {
   "cell_type": "markdown",
   "id": "c3138c02-7c58-4ac2-affc-074cea9a7814",
   "metadata": {},
   "source": [
    "# Highest & lowest selling products"
   ]
  },
  {
   "cell_type": "code",
   "execution_count": 53,
   "id": "9b6f70f6-011e-44b9-bbb2-ec47ba7d1a85",
   "metadata": {},
   "outputs": [],
   "source": [
    "selling_product = (df.groupby('Product')['Quantity'].sum()).sort_values()"
   ]
  },
  {
   "cell_type": "code",
   "execution_count": 54,
   "id": "72b819f2-76aa-4dbe-8ff5-e28cb07b2cc8",
   "metadata": {},
   "outputs": [
    {
     "data": {
      "text/plain": [
       "Product\n",
       "Smart Watch      1.0\n",
       "Tablet           2.0\n",
       "Laptop           5.0\n",
       "Monitor          5.0\n",
       "Keyboard         7.0\n",
       "Mobile Phone    12.0\n",
       "Headphones      16.0\n",
       "Name: Quantity, dtype: float64"
      ]
     },
     "execution_count": 54,
     "metadata": {},
     "output_type": "execute_result"
    }
   ],
   "source": [
    "selling_product"
   ]
  },
  {
   "cell_type": "markdown",
   "id": "436eed17-ee70-4b15-a38a-488c7c99a0ac",
   "metadata": {},
   "source": [
    "# NumPy to calculate mean, median, standard deviation of TotalSales."
   ]
  },
  {
   "cell_type": "code",
   "execution_count": 56,
   "id": "597f488d-ddea-41b6-9fcd-9d155de20177",
   "metadata": {},
   "outputs": [
    {
     "data": {
      "text/html": [
       "<div>\n",
       "<style scoped>\n",
       "    .dataframe tbody tr th:only-of-type {\n",
       "        vertical-align: middle;\n",
       "    }\n",
       "\n",
       "    .dataframe tbody tr th {\n",
       "        vertical-align: top;\n",
       "    }\n",
       "\n",
       "    .dataframe thead th {\n",
       "        text-align: right;\n",
       "    }\n",
       "</style>\n",
       "<table border=\"1\" class=\"dataframe\">\n",
       "  <thead>\n",
       "    <tr style=\"text-align: right;\">\n",
       "      <th></th>\n",
       "      <th>OrderID</th>\n",
       "      <th>Date</th>\n",
       "      <th>Region</th>\n",
       "      <th>CustomerName</th>\n",
       "      <th>Product</th>\n",
       "      <th>Quantity</th>\n",
       "      <th>UnitPrice</th>\n",
       "      <th>TotalSales</th>\n",
       "      <th>PaymentMethod</th>\n",
       "    </tr>\n",
       "  </thead>\n",
       "  <tbody>\n",
       "    <tr>\n",
       "      <th>0</th>\n",
       "      <td>1001</td>\n",
       "      <td>2023-01-15</td>\n",
       "      <td>North</td>\n",
       "      <td>Alice Johnson</td>\n",
       "      <td>Laptop</td>\n",
       "      <td>2.0</td>\n",
       "      <td>700.0</td>\n",
       "      <td>1400.0</td>\n",
       "      <td>Credit Card</td>\n",
       "    </tr>\n",
       "    <tr>\n",
       "      <th>1</th>\n",
       "      <td>1002</td>\n",
       "      <td>2023-01-16</td>\n",
       "      <td>South</td>\n",
       "      <td>Rahul Mehta</td>\n",
       "      <td>Mobile Phone</td>\n",
       "      <td>5.0</td>\n",
       "      <td>300.0</td>\n",
       "      <td>1500.0</td>\n",
       "      <td>UPI</td>\n",
       "    </tr>\n",
       "  </tbody>\n",
       "</table>\n",
       "</div>"
      ],
      "text/plain": [
       "   OrderID        Date Region   CustomerName       Product  Quantity  \\\n",
       "0     1001  2023-01-15  North  Alice Johnson        Laptop       2.0   \n",
       "1     1002  2023-01-16  South    Rahul Mehta  Mobile Phone       5.0   \n",
       "\n",
       "   UnitPrice  TotalSales PaymentMethod  \n",
       "0      700.0      1400.0   Credit Card  \n",
       "1      300.0      1500.0           UPI  "
      ]
     },
     "execution_count": 56,
     "metadata": {},
     "output_type": "execute_result"
    }
   ],
   "source": [
    "df.head(2)"
   ]
  },
  {
   "cell_type": "code",
   "execution_count": 62,
   "id": "b957cb23-cbff-42f7-84cb-76359d2e2c15",
   "metadata": {},
   "outputs": [
    {
     "name": "stdout",
     "output_type": "stream",
     "text": [
      " mean of TotalSales is: 713.3333333333334\n"
     ]
    }
   ],
   "source": [
    "print(f\" mean of TotalSales is: {np.mean(df['TotalSales'])}\")"
   ]
  },
  {
   "cell_type": "code",
   "execution_count": 63,
   "id": "bbf5332f-5ee7-4510-8362-e4c66b6bd7d9",
   "metadata": {},
   "outputs": [
    {
     "name": "stdout",
     "output_type": "stream",
     "text": [
      " median of TotalSales is: 585.0\n"
     ]
    }
   ],
   "source": [
    "print(f\" median of TotalSales is: {np.median(df['TotalSales'])}\")"
   ]
  },
  {
   "cell_type": "code",
   "execution_count": 64,
   "id": "744a369f-540c-468f-838b-939f1de986d3",
   "metadata": {},
   "outputs": [
    {
     "name": "stdout",
     "output_type": "stream",
     "text": [
      " standard deviation of TotalSales is: 436.24789079400966\n"
     ]
    }
   ],
   "source": [
    "print(f\" standard deviation of TotalSales is: {np.std(df['TotalSales'])}\")"
   ]
  },
  {
   "cell_type": "code",
   "execution_count": null,
   "id": "a8edaf82-1ed2-4f02-b3ab-90db234972c9",
   "metadata": {},
   "outputs": [],
   "source": []
  }
 ],
 "metadata": {
  "kernelspec": {
   "display_name": "Python 3 (ipykernel)",
   "language": "python",
   "name": "python3"
  },
  "language_info": {
   "codemirror_mode": {
    "name": "ipython",
    "version": 3
   },
   "file_extension": ".py",
   "mimetype": "text/x-python",
   "name": "python",
   "nbconvert_exporter": "python",
   "pygments_lexer": "ipython3",
   "version": "3.12.7"
  }
 },
 "nbformat": 4,
 "nbformat_minor": 5
}
